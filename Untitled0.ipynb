{
  "nbformat": 4,
  "nbformat_minor": 0,
  "metadata": {
    "colab": {
      "provenance": [],
      "authorship_tag": "ABX9TyMymKh121e8MgApyNkaLH0Q",
      "include_colab_link": true
    },
    "kernelspec": {
      "name": "python3",
      "display_name": "Python 3"
    },
    "language_info": {
      "name": "python"
    }
  },
  "cells": [
    {
      "cell_type": "markdown",
      "metadata": {
        "id": "view-in-github",
        "colab_type": "text"
      },
      "source": [
        "<a href=\"https://colab.research.google.com/github/Juniorffonseca/exercicios-python-livro/blob/main/Untitled0.ipynb\" target=\"_parent\"><img src=\"https://colab.research.google.com/assets/colab-badge.svg\" alt=\"Open In Colab\"/></a>"
      ]
    },
    {
      "cell_type": "markdown",
      "source": [
        "Aqui armazenarei todos os exercícios que eu resolvi do livro 'Curso intensivo de Python: Uma introdução prática e baseada em projetos à programação'"
      ],
      "metadata": {
        "id": "PBuaVyUQbNIx"
      }
    },
    {
      "cell_type": "code",
      "execution_count": 4,
      "metadata": {
        "colab": {
          "base_uri": "https://localhost:8080/"
        },
        "id": "Q7RiFdz1a9CM",
        "outputId": "2efbff14-25c6-4620-ef9a-27312ff9f7b4"
      },
      "outputs": [
        {
          "output_type": "execute_result",
          "data": {
            "text/plain": [
              "{'Nome': 'Linkin Park', 'Titulo:': 'One More Light'}"
            ]
          },
          "metadata": {},
          "execution_count": 4
        }
      ],
      "source": [
        "def make_album(nome, titulo):\n",
        "  dicionario = {'Nome': nome, \n",
        "                'Titulo:': titulo}\n",
        "  return dicionario\n",
        "\n",
        "make_album('Linkin Park', 'One More Light')\n"
      ]
    }
  ]
}